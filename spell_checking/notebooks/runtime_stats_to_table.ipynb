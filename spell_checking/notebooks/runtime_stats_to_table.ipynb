{
 "cells": [
  {
   "cell_type": "code",
   "execution_count": 1,
   "id": "16ff6fa9-0c1d-4c03-bffe-64de2d4d3f47",
   "metadata": {},
   "outputs": [],
   "source": [
    "%load_ext autoreload\n",
    "%autoreload 2"
   ]
  },
  {
   "cell_type": "code",
   "execution_count": 2,
   "id": "d6b0cc18-d6e8-49e9-99d9-ad6eccf1e4e1",
   "metadata": {},
   "outputs": [],
   "source": [
    "import os\n",
    "import json\n",
    "\n",
    "from nsc.api import tables\n",
    "from nsc.api import utils\n",
    "from nsc.utils import io\n",
    "\n",
    "from spell_checking import BENCHMARK_DIR"
   ]
  },
  {
   "cell_type": "code",
   "execution_count": 3,
   "id": "cf527c4c-f070-45d6-b3c5-fded040e720c",
   "metadata": {},
   "outputs": [],
   "source": [
    "def get_table_data(file_path: str, task: str) -> list:\n",
    "    data = []\n",
    "    with open(file_path, \"r\") as inf:\n",
    "        json_data = json.load(inf)\n",
    "        for model in sorted(json_data):\n",
    "            runtime, file_size = json_data[model]\n",
    "            kbs = (file_size / 1000) / runtime\n",
    "            data.append([task, model, f\"{runtime:.1f}\", f\"{kbs:.1f}\"])\n",
    "    return data"
   ]
  },
  {
   "cell_type": "code",
   "execution_count": 5,
   "id": "6e863d63-e144-41a3-bfbe-dc3a419fb270",
   "metadata": {},
   "outputs": [
    {
     "name": "stdout",
     "output_type": "stream",
     "text": [
      "| Task | Model | Runtime in s | kB/s |\n",
      "| :-- | --: | --: | --: |\n",
      "| SEDS/SEDW | gnn | 6.6 | 26.4 |\n",
      "| SEDS/SEDW | gnn\\textsuperscript{+} | 6.8 | 25.8 |\n",
      "| SEDS/SEDW | tokenization repair\\textsuperscript{+} | 8.7 | 20.1 |\n",
      "| SEDS/SEDW | transformer | 3.5 | 50.6 |\n",
      "| SEDS/SEDW | transformer\\textsuperscript{+} | 3.7 | 47.6 |\n",
      "| SEC | tokenization repair\\textsuperscript{++} | 40.6 | 4.3 |\n",
      "| SEC | transformer | 65.1 | 2.7 |\n",
      "| SEC | transformer with tokenization repair | 71.1 | 2.5 |\n",
      "| SEC | transformer word | 28.0 | 6.3 |\n",
      "| SEC | neuspell bert | 18.1 | 9.6 |\n",
      "| SEDW $\\rightarrow$ SEC | gnn\\textsuperscript{+} $\\rightarrow$ transformer | 48.1 | 3.6 |\n",
      "| SEDW $\\rightarrow$ SEC | gnn\\textsuperscript{+} $\\rightarrow$ transformer word | 17.2 | 10.2 |\n",
      "| SEDW $\\rightarrow$ SEC | tokenization repair\\textsuperscript{++} | 20.0 | 8.8 |\n"
     ]
    }
   ],
   "source": [
    "headers = [[\"Task\", \"Model\", \"Runtime in s\", \"kB/s\"]]\n",
    "data = []\n",
    "horizontal_lines = []\n",
    "\n",
    "sed_words_data = get_table_data(\"runtime_stats/sed_words.json\", \"SEDS/SEDW\")\n",
    "data.extend(sed_words_data)\n",
    "horizontal_lines.extend([False] * (len(sed_words_data) - 1) + [True])\n",
    "\n",
    "sec_data = get_table_data(\"runtime_stats/sec_stats.json\", \"SEC\")\n",
    "data.extend(sec_data)\n",
    "horizontal_lines.extend([False] * (len(sec_data) - 1) + [True])\n",
    "\n",
    "sec_neuspell_data = get_table_data(\"runtime_stats/sec_neuspell.json\", \"SEC\")\n",
    "data.extend(sec_neuspell_data)\n",
    "horizontal_lines.extend([False] * (len(sec_neuspell_data) - 1) + [True])\n",
    "\n",
    "sec_with_sed_data = get_table_data(\"runtime_stats/sec_with_sed_stats.json\", r\"SEDW $\\rightarrow$ SEC\")\n",
    "data.extend(sec_with_sed_data)\n",
    "horizontal_lines.extend([False] * (len(sec_with_sed_data) - 1) + [True])\n",
    "\n",
    "latex_table = tables.generate_table(\n",
    "    headers,\n",
    "    data,\n",
    "    horizontal_lines=horizontal_lines,\n",
    "    fmt=\"latex\"\n",
    ")\n",
    "utils.save_text_file(os.path.join(BENCHMARK_DIR, \"test\", \"runtime_tables\", \"runtimes.tex\"), [latex_table])\n",
    "print(tables.generate_table(\n",
    "    headers,\n",
    "    data,\n",
    "    horizontal_lines=horizontal_lines,\n",
    "    fmt=\"markdown\"\n",
    "))"
   ]
  },
  {
   "cell_type": "code",
   "execution_count": null,
   "id": "729c54b5-7497-4d06-922e-80ff1ea8789c",
   "metadata": {},
   "outputs": [],
   "source": []
  }
 ],
 "metadata": {
  "kernelspec": {
   "display_name": "Python 3 (ipykernel)",
   "language": "python",
   "name": "python3"
  },
  "language_info": {
   "codemirror_mode": {
    "name": "ipython",
    "version": 3
   },
   "file_extension": ".py",
   "mimetype": "text/x-python",
   "name": "python",
   "nbconvert_exporter": "python",
   "pygments_lexer": "ipython3",
   "version": "3.8.13"
  }
 },
 "nbformat": 4,
 "nbformat_minor": 5
}
