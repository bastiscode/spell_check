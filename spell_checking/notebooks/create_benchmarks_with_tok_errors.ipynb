{
 "cells": [
  {
   "cell_type": "code",
   "execution_count": 1,
   "id": "e1f5b259-24a7-4f99-acbc-e16680577df3",
   "metadata": {},
   "outputs": [],
   "source": [
    "%load_ext autoreload\n",
    "%autoreload 2"
   ]
  },
  {
   "cell_type": "code",
   "execution_count": 13,
   "id": "b28bbf22-1677-41bb-bcee-254c01b1d7f4",
   "metadata": {},
   "outputs": [],
   "source": [
    "import os\n",
    "import numpy as np\n",
    "\n",
    "from nsc.api import utils\n",
    "from nsc.data import preprocessing\n",
    "\n",
    "from spell_checking import BENCHMARK_DIR"
   ]
  },
  {
   "cell_type": "code",
   "execution_count": 14,
   "id": "0443da84-8724-4687-a893-90c04043e513",
   "metadata": {},
   "outputs": [],
   "source": [
    "benchmarks = [\"wikidump/realistic\", \"wikidump/artificial\", \"bookcorpus/realistic\", \"bookcorpus/artificial\"]\n",
    "\n",
    "rand = np.random.default_rng(22)\n",
    "samples_per_benchmark = 200\n",
    "correct_lines = []\n",
    "corrupt_lines = []\n",
    "for benchmark in sorted(benchmarks):\n",
    "    corrupt = utils.load_text_file(os.path.join(BENCHMARK_DIR, \"test\", \"sec\", benchmark, \"corrupt.txt\"))\n",
    "    correct = utils.load_text_file(os.path.join(BENCHMARK_DIR, \"test\", \"sec\", benchmark, \"correct.txt\"))\n",
    "    indices = rand.permutation(len(corrupt))[:samples_per_benchmark]\n",
    "    correct_lines.extend([correct[idx] for idx in indices])\n",
    "    corrupt_lines.extend([corrupt[idx] for idx in indices])\n",
    "utils.save_text_file(os.path.join(BENCHMARK_DIR, \"test\", \"runtime.correct.txt\"), correct_lines)\n",
    "utils.save_text_file(os.path.join(BENCHMARK_DIR, \"test\", \"runtime.corrupt.txt\"), corrupt_lines)"
   ]
  },
  {
   "cell_type": "code",
   "execution_count": 15,
   "id": "f56edf8e-a033-405b-85b7-aed8bdd760a6",
   "metadata": {},
   "outputs": [],
   "source": [
    "output_dir = os.path.join(BENCHMARK_DIR, \"test\", \"sec\", \"whitespace\")"
   ]
  },
  {
   "cell_type": "code",
   "execution_count": 16,
   "id": "608517ee-2b16-4180-a624-1360811ae83d",
   "metadata": {},
   "outputs": [],
   "source": [
    "ins_noise_levels = [0.025, 0.05, 0.1]\n",
    "del_noise_levels = [0.125, 0.25, 0.5]\n",
    "level_names = [\"low\", \"medium\", \"high\"]\n",
    "for i, (ins_noise, del_noise, level_name) in enumerate(zip(ins_noise_levels, del_noise_levels, level_names)):\n",
    "    cfg = preprocessing.WhitespaceNoiseConfig(no_whitespace_p=0, full_whitespace_p=0, insert_whitespace_p=ins_noise, delete_whitespace_p=del_noise)\n",
    "    whitespace_noise = preprocessing.WhitespaceNoise(cfg=cfg, seed=22 + i)\n",
    "    \n",
    "    corrupt_noised, _, _ = whitespace_noise.apply(\n",
    "        corrupt_lines,\n",
    "        corrupt_lines,\n",
    "        [{}] * len(runtime_benchmark_corrupt)\n",
    "    )\n",
    "    \n",
    "    \n",
    "    corrupt_output_file = os.path.join(output_dir, level_name, \"corrupt.txt\")\n",
    "    correct_output_file = os.path.join(output_dir, level_name, \"correct.txt\")\n",
    "    \n",
    "    utils.save_text_file(corrupt_output_file, corrupt_noised)\n",
    "    utils.save_text_file(correct_output_file, correct_lines)"
   ]
  },
  {
   "cell_type": "code",
   "execution_count": null,
   "id": "001e1e7b-a095-4a75-8bb6-8575c22b7336",
   "metadata": {},
   "outputs": [],
   "source": []
  }
 ],
 "metadata": {
  "kernelspec": {
   "display_name": "Python 3 (ipykernel)",
   "language": "python",
   "name": "python3"
  },
  "language_info": {
   "codemirror_mode": {
    "name": "ipython",
    "version": 3
   },
   "file_extension": ".py",
   "mimetype": "text/x-python",
   "name": "python",
   "nbconvert_exporter": "python",
   "pygments_lexer": "ipython3",
   "version": "3.8.13"
  }
 },
 "nbformat": 4,
 "nbformat_minor": 5
}
