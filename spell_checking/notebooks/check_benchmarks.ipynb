{
 "cells": [
  {
   "cell_type": "code",
   "execution_count": 2,
   "id": "10e63de1-bab7-4f5c-91b4-2215577b263a",
   "metadata": {},
   "outputs": [],
   "source": [
    "%load_ext autoreload\n",
    "%autoreload 2"
   ]
  },
  {
   "cell_type": "code",
   "execution_count": 15,
   "id": "546400c8-626f-420c-b754-b42723bef349",
   "metadata": {},
   "outputs": [],
   "source": [
    "import os\n",
    "import json\n",
    "import collections\n",
    "import itertools\n",
    "import pprint\n",
    "\n",
    "from nsc.api import utils\n",
    "from nsc.utils import io\n",
    "from nsc.data import utils as data_utils\n",
    "\n",
    "from spell_checking import BENCHMARK_DIR, DATA_DIR"
   ]
  },
  {
   "cell_type": "code",
   "execution_count": 82,
   "id": "62b3dc03-640d-4dc2-a4d6-da059ea6f875",
   "metadata": {},
   "outputs": [
    {
     "data": {
      "text/plain": [
       "(119554, 36645, 36753, 119725)"
      ]
     },
     "execution_count": 82,
     "metadata": {},
     "output_type": "execute_result"
    }
   ],
   "source": [
    "with open(os.path.join(DATA_DIR, \"misspellings\", \"train_misspellings.json\"), \"r\") as inf:\n",
    "    train_missp = json.load(inf)\n",
    "with open(os.path.join(DATA_DIR, \"misspellings\", \"dev_misspellings.json\"), \"r\") as inf:\n",
    "    dev_missp = json.load(inf)\n",
    "with open(os.path.join(DATA_DIR, \"misspellings\", \"test_misspellings.json\"), \"r\") as inf:\n",
    "    test_missp = json.load(inf)\n",
    "with open(os.path.join(DATA_DIR, \"misspellings\", \"misspellings.json\"), \"r\") as inf:\n",
    "    missp = json.load(inf)\n",
    "len(train_missp), len(dev_missp), len(test_missp), len(missp)"
   ]
  },
  {
   "cell_type": "code",
   "execution_count": 90,
   "id": "558b217f-0f13-43dd-a308-9c69087ed27e",
   "metadata": {},
   "outputs": [],
   "source": [
    "# make sure that all misspellings lists are disjoint\n",
    "for correct, misspellings in train_missp.items():\n",
    "    misspellings_set = set(misspellings)\n",
    "    if misspellings_set.intersection(set(dev_missp.get(correct, set()))):\n",
    "        raise RuntimeError(\"found train misspellings in dev misspellings\")\n",
    "    if misspellings_set.intersection(set(test_missp.get(correct, set()))):\n",
    "        raise RuntimeError(\"found train misspellings in test misspellings\")\n",
    "                                     \n",
    "for correct, misspellings in dev_missp.items():\n",
    "    misspellings_set = set(misspellings)\n",
    "    if misspellings_set.intersection(set(test_missp.get(correct, set()))):\n",
    "        raise RuntimeError(\"found dev misspellings in test misspellings\")"
   ]
  },
  {
   "cell_type": "code",
   "execution_count": 91,
   "id": "58ba15b7-6280-4d69-8e2b-22f727e719ae",
   "metadata": {},
   "outputs": [
    {
     "data": {
      "text/plain": [
       "(23332, 18168, 119647)"
      ]
     },
     "execution_count": 91,
     "metadata": {},
     "output_type": "execute_result"
    }
   ],
   "source": [
    "with open(os.path.join(DATA_DIR, \"misspellings_neuspell\", \"misspellings.json\"), \"r\") as inf:\n",
    "    neuspell_missp = json.load(inf)\n",
    "with open(os.path.join(DATA_DIR, \"misspellings_bea\", \"misspellings.json\"), \"r\") as inf:\n",
    "    bea_missp = json.load(inf)\n",
    "with open(os.path.join(DATA_DIR, \"misspellings_no_neuspell_no_bea\", \"misspellings.json\"), \"r\") as inf:\n",
    "    no_neuspell_no_bea_missp = json.load(inf)\n",
    "len(neuspell_missp), len(bea_missp), len(no_neuspell_no_bea_missp)"
   ]
  },
  {
   "cell_type": "code",
   "execution_count": 35,
   "id": "372047a0-8d93-4922-9627-1ec0745ea9bf",
   "metadata": {},
   "outputs": [
    {
     "data": {
      "text/plain": [
       "['/home/sebastian/msc/masters_thesis/code/spell_checking/benchmarks/test/sec/neuspell/bea60k/corrupt.txt']"
      ]
     },
     "execution_count": 35,
     "metadata": {},
     "output_type": "execute_result"
    }
   ],
   "source": [
    "benchmarks = io.glob_safe(os.path.join(BENCHMARK_DIR, \"test\", \"sec\", \"neuspell\", \"bea60k\", \"corrupt.txt\"))\n",
    "benchmarks"
   ]
  },
  {
   "cell_type": "code",
   "execution_count": 73,
   "id": "26b49d54-1743-4a10-9067-06346d2b67a3",
   "metadata": {},
   "outputs": [],
   "source": [
    "def extract_misspellings_from_parallel_corpus(corrupt_file, correct_file):\n",
    "    corrupt_lines = utils.load_text_file(corrupt_file)\n",
    "    correct_lines = utils.load_text_file(correct_file)\n",
    "    \n",
    "    misspellings = collections.defaultdict(set)\n",
    "    for i, (corrupt_line, correct_line) in enumerate(zip(corrupt_lines, correct_lines)):\n",
    "        affected = False\n",
    "        assert len(corrupt_line.split()) == len(correct_line.split())\n",
    "        for corrupt_word, correct_word in zip(corrupt_line.split(), correct_line.split()):\n",
    "            if corrupt_word != correct_word:\n",
    "                misspellings[correct_word].add(corrupt_word)\n",
    "    return misspellings"
   ]
  },
  {
   "cell_type": "code",
   "execution_count": 76,
   "id": "5ffe8f9c-e80b-4159-a867-ec946b566abd",
   "metadata": {},
   "outputs": [],
   "source": [
    "def misspelling_overlap(m1, m2):\n",
    "    overlap = 0\n",
    "    total = 0\n",
    "    for cor, m1s in m1.items():\n",
    "        total += len(m1s)\n",
    "        if cor in m2:\n",
    "            overlap += len(set(m1s).intersection(set(m2[cor])))\n",
    "    return 100 * overlap / total"
   ]
  },
  {
   "cell_type": "code",
   "execution_count": 97,
   "id": "260c1427-9ae2-43a3-abcb-67398b6f536b",
   "metadata": {},
   "outputs": [],
   "source": [
    "from typing import Dict, List\n",
    "def merge_dicts(*args: Dict) -> Dict[str, List[str]]:\n",
    "    merged = {}\n",
    "    for key in merge_keys(*args):\n",
    "        values = merge_values(*args, key=key)\n",
    "        if len(values) == 0:\n",
    "            continue\n",
    "        merged[key] = values\n",
    "    return merged\n",
    "\n",
    "\n",
    "def merge_keys(*args: Dict) -> List[str]:\n",
    "    keys = set(args[0].keys())\n",
    "    for i in range(1, len(args)):\n",
    "        keys = keys.union(set(args[i].keys()))\n",
    "    return list(keys)\n",
    "\n",
    "\n",
    "def merge_values(*args: Dict, key: str) -> List[str]:\n",
    "    values = args[0].get(key, set())\n",
    "    for i in range(1, len(args)):\n",
    "        values = values.union(args[i].get(key, set()))\n",
    "    values.discard(key)\n",
    "    return list(values)"
   ]
  },
  {
   "cell_type": "code",
   "execution_count": 104,
   "id": "e89cde64-b671-4812-8218-14c4b94d974b",
   "metadata": {},
   "outputs": [],
   "source": [
    "neuspell_corrupt = os.path.join(DATA_DIR, \"raw\", \"neuspell\", \"traintest\", \"train.1blm.noise.prob\")\n",
    "neuspell_correct = os.path.join(DATA_DIR, \"raw\", \"neuspell\", \"traintest\", \"train.1blm\")\n",
    "misspellings_extracted_from_prob_training = extract_misspellings_from_parallel_corpus(neuspell_corrupt, neuspell_correct)\n",
    "\n",
    "neuspell_corrupt = os.path.join(DATA_DIR, \"raw\", \"neuspell\", \"traintest\", \"train.1blm.noise.word\")\n",
    "misspellings_extracted_from_word_training = extract_misspellings_from_parallel_corpus(neuspell_corrupt, neuspell_correct)\n",
    "\n",
    "# neuspell_corrupt = os.path.join(DATA_DIR, \"raw\", \"neuspell\", \"traintest\", \"train.1blm.noise.random\")\n",
    "# misspellings_extracted_from_rand_training = extract_misspellings_from_parallel_corpus(neuspell_corrupt, neuspell_correct)\n",
    "\n",
    "misspellings_extracted_from_training = merge_dicts(misspellings_extracted_from_prob_training, misspellings_extracted_from_word_training) #, misspellings_extracted_from_rand_training)\n",
    "\n",
    "neuspell_corrupt = os.path.join(DATA_DIR, \"raw\", \"neuspell\", \"traintest\", \"test.bea60k.noise\")\n",
    "neuspell_correct = os.path.join(DATA_DIR, \"raw\", \"neuspell\", \"traintest\", \"test.bea60k\")\n",
    "\n",
    "misspellings_extracted_from_test = extract_misspellings_from_parallel_corpus(neuspell_corrupt, neuspell_correct)"
   ]
  },
  {
   "cell_type": "code",
   "execution_count": 105,
   "id": "23d0006d-bd7c-4267-ae0a-82ce4261afcc",
   "metadata": {},
   "outputs": [
    {
     "name": "stdout",
     "output_type": "stream",
     "text": [
      "overlap neuspell train --> bea60 test: 0.6845065102921232\n",
      "overlap bea60k test --> neuspell train: 40.98745851323171\n"
     ]
    }
   ],
   "source": [
    "print(f\"overlap neuspell train --> bea60 test: {misspelling_overlap(misspellings_extracted_from_training, misspellings_extracted_from_test)}\")\n",
    "print(f\"overlap bea60k test --> neuspell train: {misspelling_overlap(misspellings_extracted_from_test, misspellings_extracted_from_training)}\")"
   ]
  },
  {
   "cell_type": "code",
   "execution_count": 106,
   "id": "7a996d93-4549-417e-9e13-62ab3211e034",
   "metadata": {},
   "outputs": [
    {
     "name": "stdout",
     "output_type": "stream",
     "text": [
      "overlap bea60k test --> missp train: 93.41204805122331\n",
      "overlap bea60k test --> neuspell train: 93.41498516756249\n",
      "overlap bea60k test --> neuspell train: 93.41498516756249\n",
      "overlap bea60k test --> no neuspell no bea train: 33.85614004170705\n"
     ]
    }
   ],
   "source": [
    "print(f\"overlap bea60k test --> missp train: {misspelling_overlap(misspellings_extracted_from_test, missp)}\")\n",
    "print(f\"overlap bea60k test --> neuspell train: {misspelling_overlap(misspellings_extracted_from_test, neuspell_missp)}\")\n",
    "print(f\"overlap bea60k test --> neuspell train: {misspelling_overlap(misspellings_extracted_from_test, bea_missp)}\")\n",
    "print(f\"overlap bea60k test --> no neuspell no bea train: {misspelling_overlap(misspellings_extracted_from_test, no_neuspell_no_bea_missp)}\")"
   ]
  },
  {
   "cell_type": "code",
   "execution_count": null,
   "id": "f6cbd0f5-354f-46cf-bb4c-88b3bd79d89d",
   "metadata": {},
   "outputs": [],
   "source": []
  }
 ],
 "metadata": {
  "kernelspec": {
   "display_name": "Python 3 (ipykernel)",
   "language": "python",
   "name": "python3"
  },
  "language_info": {
   "codemirror_mode": {
    "name": "ipython",
    "version": 3
   },
   "file_extension": ".py",
   "mimetype": "text/x-python",
   "name": "python",
   "nbconvert_exporter": "python",
   "pygments_lexer": "ipython3",
   "version": "3.8.13"
  }
 },
 "nbformat": 4,
 "nbformat_minor": 5
}
