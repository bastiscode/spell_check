{
 "cells": [
  {
   "cell_type": "code",
   "execution_count": 1,
   "id": "eaee401f-698a-419e-b191-67ca95b5c1d4",
   "metadata": {},
   "outputs": [],
   "source": [
    "%load_ext autoreload\n",
    "%autoreload 2"
   ]
  },
  {
   "cell_type": "code",
   "execution_count": 2,
   "id": "ec6b54da-309e-4da2-b940-a6b3608e0562",
   "metadata": {},
   "outputs": [],
   "source": [
    "from typing import List, Tuple\n",
    "import difflib"
   ]
  },
  {
   "cell_type": "code",
   "execution_count": 3,
   "id": "69ae1c13-2598-45c6-9077-2ba8e83375ef",
   "metadata": {},
   "outputs": [],
   "source": [
    "test_predicted = [\n",
    "    \"This is a correction!\"\n",
    "]\n",
    "test_target = [\n",
    "    \"this is a correction!\"\n",
    "]\n",
    "test_inputs = [\n",
    "    \"this si a corection!\"\n",
    "]"
   ]
  },
  {
   "cell_type": "code",
   "execution_count": 4,
   "id": "1e6eb812-ba22-477e-aa18-10d284c361cf",
   "metadata": {},
   "outputs": [
    {
     "data": {
      "text/plain": [
       "[Match(a=1, b=1, size=3), Match(a=4, b=4, size=0)]"
      ]
     },
     "execution_count": 4,
     "metadata": {},
     "output_type": "execute_result"
    }
   ],
   "source": [
    "sm = difflib.SequenceMatcher(a=test_target[0].split(), b=test_predicted[0].split())\n",
    "sm.get_matching_blocks()\n",
    "\n",
    "\n",
    "def \n"
   ]
  },
  {
   "cell_type": "code",
   "execution_count": 9,
   "id": "9a9c367d-4875-4f5d-a97f-e48fe3f6d0fd",
   "metadata": {},
   "outputs": [],
   "source": [
    "def f1_prec_rec(predicted_sequences: List[str], target_sequences: List[str], input_sequences: List[str]) -> Tuple[float, float, float]:\n",
    "    def _tp_fp_fn(pred: str, tgt: str, ipt: str) -> Tuple[int, int, int]:\n",
    "        tp = fp = fn = 0\n",
    "        return tp, fp, fn\n",
    "        \n",
    "    total_tp = total_fp = total_fn = 0\n",
    "    for pred, tgt, ipt in zip(predicted_sequences, target_sequences, input_sequences):\n",
    "        tp, fp, fn = _tp_fp_fn(pred, tgt, ipt)\n",
    "        total_tp += tp\n",
    "        total_fp += fp\n",
    "        total_fn += fn\n",
    "    \n",
    "    return total_tp, total_fp, total_fn"
   ]
  },
  {
   "cell_type": "code",
   "execution_count": 10,
   "id": "fa0f9d2f-c580-49ac-9599-5258f48e386b",
   "metadata": {},
   "outputs": [
    {
     "data": {
      "text/plain": [
       "(0, 0, 0)"
      ]
     },
     "execution_count": 10,
     "metadata": {},
     "output_type": "execute_result"
    }
   ],
   "source": [
    "f1_prec_rec(test_predicted, test_target, test_inputs)"
   ]
  },
  {
   "cell_type": "code",
   "execution_count": null,
   "id": "ed70c56b-3368-482c-92ed-ff4fae8f0391",
   "metadata": {},
   "outputs": [],
   "source": []
  }
 ],
 "metadata": {
  "kernelspec": {
   "display_name": "Python 3 (ipykernel)",
   "language": "python",
   "name": "python3"
  },
  "language_info": {
   "codemirror_mode": {
    "name": "ipython",
    "version": 3
   },
   "file_extension": ".py",
   "mimetype": "text/x-python",
   "name": "python",
   "nbconvert_exporter": "python",
   "pygments_lexer": "ipython3",
   "version": "3.8.13"
  }
 },
 "nbformat": 4,
 "nbformat_minor": 5
}
