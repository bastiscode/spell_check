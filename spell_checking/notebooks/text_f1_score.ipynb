{
 "cells": [
  {
   "cell_type": "code",
   "execution_count": 1,
   "id": "eaee401f-698a-419e-b191-67ca95b5c1d4",
   "metadata": {},
   "outputs": [],
   "source": [
    "%load_ext autoreload\n",
    "%autoreload 2"
   ]
  },
  {
   "cell_type": "code",
   "execution_count": 2,
   "id": "ec6b54da-309e-4da2-b940-a6b3608e0562",
   "metadata": {},
   "outputs": [],
   "source": [
    "from typing import List, Tuple, Set, Union, Dict\n",
    "import difflib\n",
    "import Levenshtein\n",
    "import re\n",
    "import pprint\n",
    "import copy"
   ]
  },
  {
   "cell_type": "code",
   "execution_count": 3,
   "id": "60e4a902-e775-496b-8c84-9f8aa9014a25",
   "metadata": {},
   "outputs": [],
   "source": [
    "def match_sequences(a: str, b: str) -> List[Tuple[int, int]]:\n",
    "    a_words = a.split()\n",
    "    b_words = b.split()\n",
    "    m = [\n",
    "        [0 for _ in range(len(b_words) + 1)]\n",
    "        for i in range(len(a_words) + 1)\n",
    "    ]\n",
    "    ops = [\n",
    "        [\" \" for _ in range(len(b_words) + 1)]\n",
    "        for i in range(len(a_words) + 1)\n",
    "    ]\n",
    "    for j in range(1, len(b_words) + 1):\n",
    "        ops[0][j] = \"i\"\n",
    "    for i in range(1, len(a_words) + 1):\n",
    "        ops[i][0] = \"d\"\n",
    "    \n",
    "    for i in range(1, len(a_words) + 1):\n",
    "        for j in range(1, len(b_words) + 1):\n",
    "            i_w = i - 1\n",
    "            j_w = j - 1\n",
    "            \n",
    "            values = [(m[i-1][j], \"d\"), (m[i][j-1], \"i\"), (m[i-1][j-1] + int(a_words[i_w] == b_words[j_w]), \"m\" if a_words[i_w] == b_words[j_w] else \"nm\")]\n",
    "\n",
    "            max_value, max_op = max(values, key=lambda item: item[0])\n",
    "            m[i][j] = max_value\n",
    "            ops[i][j] = max_op\n",
    "            \n",
    "    # backtrace\n",
    "    matches = []\n",
    "    i = len(a_words)\n",
    "    j = len(b_words)\n",
    "    while i > 0 or j > 0:\n",
    "        op = ops[i][j]\n",
    "        if op == \"d\":\n",
    "            i -= 1\n",
    "        elif op == \"i\":\n",
    "            j -= 1\n",
    "        elif op == \"m\":\n",
    "            i -= 1\n",
    "            j -= 1\n",
    "            matches.append((i, j))\n",
    "        elif op == \"nm\":\n",
    "            i -= 1\n",
    "            j -= 1\n",
    "        else:\n",
    "            raise RuntimeError(\"should not happen\")\n",
    "            \n",
    "    return list(reversed(matches))"
   ]
  },
  {
   "cell_type": "code",
   "execution_count": 4,
   "id": "cf953d2c-4596-482a-8857-07e64873742f",
   "metadata": {},
   "outputs": [
    {
     "name": "stdout",
     "output_type": "stream",
     "text": [
      "329 ms ± 12.5 ms per loop (mean ± std. dev. of 7 runs, 1 loop each)\n"
     ]
    }
   ],
   "source": [
    "%timeit [match_sequences(\"this test is a\", \"this is a test\") for _ in range(10000)]"
   ]
  },
  {
   "cell_type": "code",
   "execution_count": 5,
   "id": "07c4ddef-3b85-47ec-97f9-e170a7074cc0",
   "metadata": {},
   "outputs": [],
   "source": [
    "import edit_distance_rs"
   ]
  },
  {
   "cell_type": "code",
   "execution_count": 6,
   "id": "4a157e17-4c89-47ec-aeb5-d5712bced097",
   "metadata": {},
   "outputs": [
    {
     "name": "stdout",
     "output_type": "stream",
     "text": [
      "11.3 ms ± 892 µs per loop (mean ± std. dev. of 7 runs, 100 loops each)\n"
     ]
    }
   ],
   "source": [
    "%timeit edit_distance_rs.batch_match_words([\"this test is a\" for _ in range(10000)], [\"this is a test\" for _ in range(10000)], 256)"
   ]
  },
  {
   "cell_type": "code",
   "execution_count": 7,
   "id": "feacc19d-b0e7-44a6-92a2-3de34f0a58e6",
   "metadata": {},
   "outputs": [],
   "source": [
    "def edit_operations(\n",
    "    a: str, \n",
    "    b: str, \n",
    "    with_swap: bool = False, \n",
    "    spaces_insert_delete_only: bool = False, \n",
    "    return_distance_only: bool = False\n",
    ") -> Union[int, List[Tuple[str, int, int]]]:\n",
    "    \"\"\"\n",
    "    Returns the edit operations transforming a into b, optionally allowing only insertion and deletion operations for spaces.\n",
    "    Follows optimal string alignment distance at https://en.wikipedia.org/wiki/Damerau%E2%80%93Levenshtein_distance.\n",
    "    \n",
    "    \"\"\"\n",
    "    d = [\n",
    "        list(range(len(b) + 1)) if i == 0 else [i if j == 0 else -1 for j in range(len(b) + 1)]\n",
    "        for i in range(len(a) + 1)\n",
    "    ]\n",
    "    # operations: ' ' --> not yet filled in, k --> keep, i --> insert, d --> delete, r --> replace, s --> swap\n",
    "    ops = [\n",
    "        [\"i\"] * (len(b) + 1) if i == 0 else [\"d\" if j == 0 else \" \" for j in range(len(b) + 1)]\n",
    "        for i in range(len(a) + 1)\n",
    "    ]\n",
    "    ops[0][0] = \"k\"\n",
    "    \n",
    "    # fill in matrices\n",
    "    for i in range(1, len(a) + 1):\n",
    "        for j in range(1, len(b) + 1):\n",
    "            # string indices are offset by -1\n",
    "            i_str = i - 1\n",
    "            j_str = j - 1\n",
    "            \n",
    "            # delete and insert\n",
    "            costs = [(d[i-1][j] + 1, \"d\"), (d[i][j-1] + 1, \"i\")]\n",
    "            if a[i_str] == b[j_str]:\n",
    "                costs.append((d[i-1][j-1], \"k\"))\n",
    "            else:\n",
    "                # chars are not equal, only allow replacement if no space is involved or we are allowed to replace spaces\n",
    "                if (\n",
    "                    not spaces_insert_delete_only \n",
    "                    or (a[i_str] != \" \" and b[j_str] != \" \")\n",
    "                ):\n",
    "                    costs.append((d[i-1][j-1] + 1, \"r\"))\n",
    "            # check if we can swap chars, that is if we are allowed to swap and if the chars to swap match\n",
    "            if with_swap and i > 1 and j > 1 and a[i_str] == b[j_str-1] and a[i_str-1] == b[j_str]:\n",
    "                # we can swap the chars, but only allow swapping if no space is involved or we are allowed to swap spaces\n",
    "                if (\n",
    "                    not spaces_insert_delete_only \n",
    "                    or (a[i_str] != \" \" and a[i_str - 1] != \" \")\n",
    "                ):\n",
    "                    costs.append((d[i-2][j-2] + 1, \"s\"))\n",
    "                \n",
    "            min_cost, min_op = min(costs, key=lambda item: item[0])\n",
    "            d[i][j] = min_cost\n",
    "            ops[i][j] = min_op\n",
    "    \n",
    "    # make sure that it worked\n",
    "    assert all(v >= 0 for row in d for v in row)\n",
    "    \n",
    "    if return_distance_only:\n",
    "        return d[-1][-1]\n",
    "    \n",
    "    # backtrace matrices\n",
    "    edit_ops = []\n",
    "    i = len(a)\n",
    "    j = len(b)\n",
    "    while i > 0 or j > 0:\n",
    "        op = ops[i][j]\n",
    "        if op == \"k\":\n",
    "            # we do not add keep operation to edit_ops\n",
    "            i -= 1\n",
    "            j -= 1\n",
    "            continue\n",
    "            \n",
    "        if op == \"d\":\n",
    "            op_name = \"delete\"\n",
    "            i -= 1\n",
    "        elif op == \"i\":\n",
    "            op_name = \"insert\"\n",
    "            j -= 1\n",
    "        elif op == \"r\":\n",
    "            op_name = \"replace\"\n",
    "            i -= 1\n",
    "            j -= 1\n",
    "        elif op == \"s\":\n",
    "            op_name = \"swap\"\n",
    "            i -= 2\n",
    "            j -= 2\n",
    "        else:\n",
    "            raise RuntimeError(\"should not happen\")\n",
    "            \n",
    "        edit_ops.append((op_name, i, j))\n",
    "    \n",
    "    return list(reversed(edit_ops))\n",
    "\n",
    "def edit_distance(\n",
    "    a: str, \n",
    "    b: str, \n",
    "    with_swap: bool = True, \n",
    "    spaces_insert_delete_only: bool = False\n",
    ") -> int:\n",
    "    return edit_operations(a, b, with_swap, spaces_insert_delete_only, return_distance_only=True)"
   ]
  },
  {
   "cell_type": "code",
   "execution_count": 27,
   "id": "1d38a264-4692-4f81-a173-13061ee00698",
   "metadata": {},
   "outputs": [],
   "source": [
    "def find_word_boundaries(s: str) -> List[Tuple[int, int]]:\n",
    "    words = s.split()\n",
    "    word_boundaries = []\n",
    "    start_idx = 0\n",
    "    for word in words:\n",
    "        word_boundaries.append((start_idx, start_idx + len(word)))\n",
    "        start_idx += len(word) + 1\n",
    "    return word_boundaries\n",
    "\n",
    "def get_edited_words2(ipt: str, tgt: str) -> Set[int]:\n",
    "    edit_ops = edit_operations(ipt, tgt, spaces_insert_delete_only=True)\n",
    "    ipt_wb = find_word_boundaries(ipt)\n",
    "    tgt_wb = find_word_boundaries(tgt)\n",
    "    edited_ipt_indices = set()\n",
    "    edited_tgt_indices = set()\n",
    "    for op_code, ipt_idx, tgt_idx in edit_ops:\n",
    "        word_idx = 0\n",
    "        for wb_s, wb_e in ipt_wb:\n",
    "            if ipt_idx >= wb_s and ipt_idx < wb_e:\n",
    "                edited_ipt_indices.add(word_idx)\n",
    "                break\n",
    "            elif ipt_idx == wb_e:\n",
    "                edited_ipt_indices.add(word_idx)\n",
    "                edited_ipt_indices.add(word_idx+1)\n",
    "                break\n",
    "            word_idx += 1\n",
    "        assert word_idx < len(ipt_wb)\n",
    "        tgt_word_idx = 0\n",
    "        for wb_s, wb_e in tgt_wb:\n",
    "            if wb_s <= tgt_idx < wb_e:\n",
    "                edited_tgt_indices.add(tgt_word_idx)\n",
    "                break\n",
    "            elif tgt_idx == wb_e:\n",
    "                assert op_code == \"delete\" or op_code == \"insert\"\n",
    "                if op_code == \"delete\":\n",
    "                    edited_tgt_indices.add(tgt_word_idx)\n",
    "                else:\n",
    "                    assert tgt[tgt_idx] == \" \"\n",
    "                    edited_tgt_indices.add(tgt_word_idx)\n",
    "                    edited_tgt_indices.add(tgt_word_idx + 1)\n",
    "                break\n",
    "            tgt_word_idx += 1\n",
    "        assert tgt_word_idx < len(tgt_wb)\n",
    "    return edited_ipt_indices, edited_tgt_indices\n",
    "            \n",
    "\n",
    "def get_edited_words(ipt: str, tgt: str) -> Set[int]:\n",
    "    assert tgt.strip() == tgt and ipt.strip() == ipt, \"the two strings must not contain leading or trailing whitespaces\"\n",
    "    tgt_word_boundaries = find_word_boundaries(tgt)\n",
    "    edit_ops = edit_operations(ipt, tgt, spaces_insert_delete_only=True)\n",
    "    edited_tgt_indices = set()\n",
    "    for op_code, ipt_idx, tgt_idx in edit_ops:\n",
    "        word_boundary_idx = 0\n",
    "        while word_boundary_idx < len(tgt_word_boundaries):\n",
    "            word_start, word_end = tgt_word_boundaries[word_boundary_idx]\n",
    "            if tgt_idx <= word_end:\n",
    "                break\n",
    "            word_boundary_idx += 1\n",
    "            \n",
    "        if op_code == \"insert\" and tgt[tgt_idx] == \" \":\n",
    "            assert word_boundary_idx < len(tgt_word_boundaries) - 1\n",
    "            edited_tgt_indices.add(word_boundary_idx)\n",
    "            edited_tgt_indices.add(word_boundary_idx + 1)\n",
    "        else:\n",
    "            edited_tgt_indices.add(word_boundary_idx)\n",
    "            \n",
    "    return edited_tgt_indices\n",
    "\n",
    "def match_words(pred: str, tgt: str) -> Tuple[Set[int], Set[int]]:\n",
    "    sm = difflib.SequenceMatcher(a=pred.split(), b=tgt.split())\n",
    "    matching_blocks = sm.get_matching_blocks()\n",
    "    matching_pred_indices = set()\n",
    "    matching_tgt_indices = set()\n",
    "    for matching_block in matching_blocks:\n",
    "        start_pred = matching_block.a\n",
    "        for idx in range(start_pred, start_pred + matching_block.size):\n",
    "            matching_pred_indices.add(idx)\n",
    "        start_tgt = matching_block.b\n",
    "        for idx in range(start_tgt, start_tgt + matching_block.size):\n",
    "            matching_tgt_indices.add(idx)\n",
    "    return matching_pred_indices, matching_tgt_indices\n",
    "\n",
    "def group_words(\n",
    "    ipt: str, \n",
    "    pred: str,\n",
    "    matching_in_pred: Set[int]\n",
    ") -> Set[int]:\n",
    "    assert pred.strip() == pred and ipt.strip() == ipt, \"the two strings must not contain leading or trailing whitespaces\"\n",
    "    edit_ops = edit_operations(ipt, pred, spaces_insert_delete_only=True)\n",
    "    ipt_word_boundaries = find_word_boundaries(ipt)\n",
    "    merged_with_next_indices = set()\n",
    "    num_spaces_inserted = {}\n",
    "    for op_code, ipt_idx, pred_idx in edit_ops:\n",
    "        word_boundary_idx = 0\n",
    "        while word_boundary_idx < len(ipt_word_boundaries):\n",
    "            word_start, word_end = ipt_word_boundaries[word_boundary_idx]\n",
    "            if ipt_idx <= word_end:\n",
    "                break\n",
    "            word_boundary_idx += 1\n",
    "            \n",
    "        if op_code == \"delete\" and ipt[ipt_idx] == \" \":\n",
    "            merged_with_next_indices.add(word_boundary_idx)\n",
    "        \n",
    "        if op_code == \"insert\" and pred[pred_idx] == \" \":\n",
    "            if word_boundary_idx not in num_spaces_inserted:\n",
    "                num_spaces_inserted[word_boundary_idx] = 1\n",
    "            else:\n",
    "                num_spaces_inserted[word_boundary_idx] += 1\n",
    "    \n",
    "    correct = set()\n",
    "    ipt_idx = 0\n",
    "    pred_idx = 0\n",
    "    while ipt_idx < len(ipt_word_boundaries):\n",
    "        merged_word = {ipt_idx}\n",
    "        total_spaces_inserted = num_spaces_inserted.get(ipt_idx, 0)\n",
    "        while ipt_idx in merged_with_next_indices:\n",
    "            ipt_idx += 1\n",
    "            merged_word.add(ipt_idx)\n",
    "            total_spaces_inserted += num_spaces_inserted.get(ipt_idx, 0)\n",
    "            \n",
    "        # find corresponding words for merged word in pred\n",
    "        if all(idx in matching_in_pred for idx in range(pred_idx, pred_idx + total_spaces_inserted + 1)):\n",
    "            correct = correct.union(merged_word)\n",
    "            \n",
    "        ipt_idx += 1\n",
    "        pred_idx += total_spaces_inserted + 1\n",
    "        \n",
    "    assert ipt_idx == len(ipt_word_boundaries) and pred_idx == len(pred.split())\n",
    "    return correct"
   ]
  },
  {
   "cell_type": "code",
   "execution_count": 10,
   "id": "69ae1c13-2598-45c6-9077-2ba8e83375ef",
   "metadata": {},
   "outputs": [],
   "source": [
    "test_pred = \"The cute act eats delicate fi sh.\"\n",
    "test_predicted = [test_pred]\n",
    "test_tgt = \"The cute cat eats delicious fish.\"\n",
    "test_target = [test_tgt]\n",
    "test_ipt = \"Te cute cteats delicious fi sh.\"\n",
    "test_inputs = [test_ipt]\n",
    "\n",
    "misspelled = {0, 2, 3, 5}\n",
    "restored = {0, 1, 3}\n",
    "changed = {0, 2, 3}\n",
    "correct = {0, 1}\n",
    "\n",
    "edited_in_tgt = get_edited_words(test_ipt, test_tgt)\n",
    "assert misspelled == edited_in_tgt, (misspelled, edited_in_tgt)\n",
    "assert len(misspelled) <= len(test_tgt.split())\n",
    "\n",
    "edited_in_ipt = get_edited_words(test_pred, test_ipt)\n",
    "assert changed == edited_in_ipt, (changed, edited_in_ipt)\n",
    "assert len(changed) <= len(test_ipt.split())\n",
    "\n",
    "matching_in_pred, matching_in_tgt = match_words(test_pred, test_tgt)\n",
    "assert restored == matching_in_tgt, (restored, matching_in_tgt)\n",
    "assert len(restored) <= len(test_tgt.split())\n",
    "\n",
    "correct_in_ipt = group_words(test_ipt, test_pred, matching_in_pred)\n",
    "assert correct == correct_in_ipt\n",
    "assert len(correct) <= len(test_ipt.split())"
   ]
  },
  {
   "cell_type": "code",
   "execution_count": 22,
   "id": "4d85d9d8-4afa-448d-8b3c-8f4bb3adda43",
   "metadata": {},
   "outputs": [
    {
     "data": {
      "text/plain": [
       "{0}"
      ]
     },
     "execution_count": 22,
     "metadata": {},
     "output_type": "execute_result"
    }
   ],
   "source": [
    "get_edited_words(\"this is a test\", \"thisis a test\")"
   ]
  },
  {
   "cell_type": "code",
   "execution_count": 28,
   "id": "e648f8b0-ba10-4f55-979b-53196ce6d82f",
   "metadata": {},
   "outputs": [
    {
     "data": {
      "text/plain": [
       "({0}, {0})"
      ]
     },
     "execution_count": 28,
     "metadata": {},
     "output_type": "execute_result"
    }
   ],
   "source": [
    "get_edited_words2(\"thisa is a test\", \"this is a test\")"
   ]
  },
  {
   "cell_type": "code",
   "execution_count": 6,
   "id": "9a9c367d-4875-4f5d-a97f-e48fe3f6d0fd",
   "metadata": {},
   "outputs": [],
   "source": [
    "def correction_f1_prec_rec(predicted_sequences: List[str], target_sequences: List[str], input_sequences: List[str]) -> Tuple[float, float, float]:\n",
    "    def _tp_fp_fn(pred: str, tgt: str, ipt: str) -> Tuple[int, int, int]:\n",
    "        misspelled = get_edited_words(ipt, tgt)\n",
    "        changed = get_edited_words(pred, ipt)\n",
    "        matching_in_pred, restored = match_words(pred, tgt)\n",
    "        correct = group_words(ipt, pred, matching_in_pred)\n",
    "        tp = misspelled.intersection(restored)\n",
    "        fn = misspelled.difference(restored)\n",
    "        fp = changed.difference(correct)\n",
    "        return len(tp), len(fp), len(fn)\n",
    "        \n",
    "    total_tp = total_fp = total_fn = 0\n",
    "    for pred, tgt, ipt in zip(predicted_sequences, target_sequences, input_sequences):\n",
    "        tp, fp, fn = _tp_fp_fn(pred, tgt, ipt)\n",
    "        total_tp += tp\n",
    "        total_fp += fp\n",
    "        total_fn += fn\n",
    "    \n",
    "    return total_tp, total_fp, total_fn"
   ]
  },
  {
   "cell_type": "code",
   "execution_count": 7,
   "id": "2f22de74-e584-486c-91cb-d2188e1c69bb",
   "metadata": {},
   "outputs": [],
   "source": [
    "import edit_distance_rs"
   ]
  },
  {
   "cell_type": "code",
   "execution_count": 8,
   "id": "ae8f579a-76c8-4f0c-9f12-89e246506faa",
   "metadata": {},
   "outputs": [
    {
     "name": "stdout",
     "output_type": "stream",
     "text": [
      "[('insert', 1, 1), ('insert', 9, 10), ('insert', 10, 12), ('delete', 27, 30)]\n",
      "[('insert', 1, 1), ('insert', 9, 10), ('insert', 10, 12), ('delete', 27, 30)]\n"
     ]
    }
   ],
   "source": [
    "print(Levenshtein.editops(test_ipt, test_tgt))\n",
    "print(edit_distance_rs.edit_operations(test_ipt, test_tgt, False, False))"
   ]
  },
  {
   "cell_type": "code",
   "execution_count": 9,
   "id": "0e5611a7-9caf-434b-870f-10c24e3ac7c1",
   "metadata": {},
   "outputs": [],
   "source": [
    "batch_size = 10000\n",
    "batch_ipt = [test_ipt for _ in range(batch_size)]\n",
    "batch_tgt = [test_tgt for _ in range(batch_size)]"
   ]
  },
  {
   "cell_type": "markdown",
   "id": "81818d03-a8fa-406d-be0b-2bb6c3c9b893",
   "metadata": {},
   "source": [
    "### Unbatched"
   ]
  },
  {
   "cell_type": "code",
   "execution_count": 10,
   "id": "8495be29-06c1-4c0e-93cb-53d96e5f02e2",
   "metadata": {},
   "outputs": [
    {
     "name": "stdout",
     "output_type": "stream",
     "text": [
      "1.02 ms ± 3.35 µs per loop (mean ± std. dev. of 7 runs, 1000 loops each)\n"
     ]
    }
   ],
   "source": [
    "%timeit edit_operations(test_ipt, test_tgt)"
   ]
  },
  {
   "cell_type": "code",
   "execution_count": 11,
   "id": "7ddca5ff-2a0a-4bbe-9fec-91ca1f4615fa",
   "metadata": {},
   "outputs": [
    {
     "name": "stdout",
     "output_type": "stream",
     "text": [
      "1.12 ms ± 3.17 µs per loop (mean ± std. dev. of 7 runs, 1000 loops each)\n"
     ]
    }
   ],
   "source": [
    "%timeit edit_distance(test_ipt, test_tgt)"
   ]
  },
  {
   "cell_type": "code",
   "execution_count": 12,
   "id": "d0b49239-ac6a-432f-a9df-fbf3d8c8b25a",
   "metadata": {},
   "outputs": [
    {
     "name": "stdout",
     "output_type": "stream",
     "text": [
      "40.8 µs ± 395 ns per loop (mean ± std. dev. of 7 runs, 10000 loops each)\n"
     ]
    }
   ],
   "source": [
    "%timeit difflib.SequenceMatcher(a=test_ipt, b=test_tgt).get_matching_blocks()"
   ]
  },
  {
   "cell_type": "code",
   "execution_count": 13,
   "id": "e015f510-5210-438d-b875-642169204340",
   "metadata": {},
   "outputs": [
    {
     "name": "stdout",
     "output_type": "stream",
     "text": [
      "1.14 µs ± 0.762 ns per loop (mean ± std. dev. of 7 runs, 1000000 loops each)\n"
     ]
    }
   ],
   "source": [
    "%timeit Levenshtein.distance(test_ipt, test_tgt)"
   ]
  },
  {
   "cell_type": "code",
   "execution_count": 14,
   "id": "e544a06f-e6d8-4832-888d-de9552bf02df",
   "metadata": {},
   "outputs": [
    {
     "name": "stdout",
     "output_type": "stream",
     "text": [
      "1.82 µs ± 2.32 ns per loop (mean ± std. dev. of 7 runs, 1000000 loops each)\n"
     ]
    }
   ],
   "source": [
    "%timeit Levenshtein.editops(test_ipt, test_tgt)"
   ]
  },
  {
   "cell_type": "code",
   "execution_count": 15,
   "id": "8bdf7ea2-7907-4862-810f-d1e2eb9fca66",
   "metadata": {},
   "outputs": [
    {
     "name": "stdout",
     "output_type": "stream",
     "text": [
      "134 µs ± 126 ns per loop (mean ± std. dev. of 7 runs, 10000 loops each)\n"
     ]
    }
   ],
   "source": [
    "%timeit edit_distance_rs.edit_distance(test_ipt, test_tgt, False, False)"
   ]
  },
  {
   "cell_type": "code",
   "execution_count": 16,
   "id": "b90f3001-d97f-427b-8ff3-5b3ac0214f53",
   "metadata": {},
   "outputs": [
    {
     "name": "stdout",
     "output_type": "stream",
     "text": [
      "124 µs ± 204 ns per loop (mean ± std. dev. of 7 runs, 10000 loops each)\n"
     ]
    }
   ],
   "source": [
    "%timeit edit_distance_rs.edit_operations(test_ipt, test_tgt, False, False)"
   ]
  },
  {
   "cell_type": "markdown",
   "id": "f20a7a2f-6769-4e40-8141-8eb307ecc891",
   "metadata": {},
   "source": [
    "### Batched"
   ]
  },
  {
   "cell_type": "code",
   "execution_count": 10,
   "id": "d4dcf3d0-6005-48ff-9a68-a5bb73ba3d07",
   "metadata": {},
   "outputs": [],
   "source": [
    "from tqdm.notebook import tqdm\n",
    "import time\n",
    "from nsc.api import utils\n",
    "from spell_checking.utils import edit_distance as ed"
   ]
  },
  {
   "cell_type": "code",
   "execution_count": 11,
   "id": "9ec1194b-6e60-4bd4-a00e-95b499588f52",
   "metadata": {},
   "outputs": [
    {
     "data": {
      "text/plain": [
       "10000"
      ]
     },
     "execution_count": 11,
     "metadata": {},
     "output_type": "execute_result"
    }
   ],
   "source": [
    "benchmark_corrupt = utils.load_text_file(\"../benchmarks/test/sec/wikidump/artificial/corrupt.txt\")\n",
    "benchmark_correct = utils.load_text_file(\"../benchmarks/test/sec/wikidump/artificial/correct.txt\")\n",
    "\n",
    "len(benchmark_corrupt)"
   ]
  },
  {
   "cell_type": "code",
   "execution_count": 12,
   "id": "8b0d15ad-870c-4b80-a7cf-78124f0c8a2e",
   "metadata": {},
   "outputs": [
    {
     "data": {
      "application/vnd.jupyter.widget-view+json": {
       "model_id": "e72ce7df0876484dbd6836a8be100eb0",
       "version_major": 2,
       "version_minor": 0
      },
      "text/plain": [
       "  0%|          | 0/10000 [00:00<?, ?it/s]"
      ]
     },
     "metadata": {},
     "output_type": "display_data"
    },
    {
     "ename": "KeyboardInterrupt",
     "evalue": "",
     "output_type": "error",
     "traceback": [
      "\u001b[0;31m---------------------------------------------------------------------------\u001b[0m",
      "\u001b[0;31mKeyboardInterrupt\u001b[0m                         Traceback (most recent call last)",
      "\u001b[0;32m/tmp/ipykernel_7321/2652179412.py\u001b[0m in \u001b[0;36m<module>\u001b[0;34m\u001b[0m\n\u001b[0;32m----> 1\u001b[0;31m \u001b[0m_\u001b[0m \u001b[0;34m=\u001b[0m \u001b[0;34m[\u001b[0m\u001b[0medit_distance\u001b[0m\u001b[0;34m(\u001b[0m\u001b[0mi\u001b[0m\u001b[0;34m,\u001b[0m \u001b[0mt\u001b[0m\u001b[0;34m)\u001b[0m \u001b[0;32mfor\u001b[0m \u001b[0mi\u001b[0m\u001b[0;34m,\u001b[0m \u001b[0mt\u001b[0m \u001b[0;32min\u001b[0m \u001b[0mtqdm\u001b[0m\u001b[0;34m(\u001b[0m\u001b[0mzip\u001b[0m\u001b[0;34m(\u001b[0m\u001b[0mbenchmark_corrupt\u001b[0m\u001b[0;34m,\u001b[0m \u001b[0mbenchmark_correct\u001b[0m\u001b[0;34m)\u001b[0m\u001b[0;34m,\u001b[0m \u001b[0mtotal\u001b[0m\u001b[0;34m=\u001b[0m\u001b[0mlen\u001b[0m\u001b[0;34m(\u001b[0m\u001b[0mbenchmark_correct\u001b[0m\u001b[0;34m)\u001b[0m\u001b[0;34m)\u001b[0m\u001b[0;34m]\u001b[0m\u001b[0;34m\u001b[0m\u001b[0;34m\u001b[0m\u001b[0m\n\u001b[0m",
      "\u001b[0;32m/tmp/ipykernel_7321/2652179412.py\u001b[0m in \u001b[0;36m<listcomp>\u001b[0;34m(.0)\u001b[0m\n\u001b[0;32m----> 1\u001b[0;31m \u001b[0m_\u001b[0m \u001b[0;34m=\u001b[0m \u001b[0;34m[\u001b[0m\u001b[0medit_distance\u001b[0m\u001b[0;34m(\u001b[0m\u001b[0mi\u001b[0m\u001b[0;34m,\u001b[0m \u001b[0mt\u001b[0m\u001b[0;34m)\u001b[0m \u001b[0;32mfor\u001b[0m \u001b[0mi\u001b[0m\u001b[0;34m,\u001b[0m \u001b[0mt\u001b[0m \u001b[0;32min\u001b[0m \u001b[0mtqdm\u001b[0m\u001b[0;34m(\u001b[0m\u001b[0mzip\u001b[0m\u001b[0;34m(\u001b[0m\u001b[0mbenchmark_corrupt\u001b[0m\u001b[0;34m,\u001b[0m \u001b[0mbenchmark_correct\u001b[0m\u001b[0;34m)\u001b[0m\u001b[0;34m,\u001b[0m \u001b[0mtotal\u001b[0m\u001b[0;34m=\u001b[0m\u001b[0mlen\u001b[0m\u001b[0;34m(\u001b[0m\u001b[0mbenchmark_correct\u001b[0m\u001b[0;34m)\u001b[0m\u001b[0;34m)\u001b[0m\u001b[0;34m]\u001b[0m\u001b[0;34m\u001b[0m\u001b[0;34m\u001b[0m\u001b[0m\n\u001b[0m",
      "\u001b[0;32m/tmp/ipykernel_7321/3227546980.py\u001b[0m in \u001b[0;36medit_distance\u001b[0;34m(a, b, with_swap, spaces_insert_delete_only)\u001b[0m\n\u001b[1;32m     98\u001b[0m     \u001b[0mspaces_insert_delete_only\u001b[0m\u001b[0;34m:\u001b[0m \u001b[0mbool\u001b[0m \u001b[0;34m=\u001b[0m \u001b[0;32mFalse\u001b[0m\u001b[0;34m\u001b[0m\u001b[0;34m\u001b[0m\u001b[0m\n\u001b[1;32m     99\u001b[0m ) -> int:\n\u001b[0;32m--> 100\u001b[0;31m     \u001b[0;32mreturn\u001b[0m \u001b[0medit_operations\u001b[0m\u001b[0;34m(\u001b[0m\u001b[0ma\u001b[0m\u001b[0;34m,\u001b[0m \u001b[0mb\u001b[0m\u001b[0;34m,\u001b[0m \u001b[0mwith_swap\u001b[0m\u001b[0;34m,\u001b[0m \u001b[0mspaces_insert_delete_only\u001b[0m\u001b[0;34m,\u001b[0m \u001b[0mreturn_distance_only\u001b[0m\u001b[0;34m=\u001b[0m\u001b[0;32mTrue\u001b[0m\u001b[0;34m)\u001b[0m\u001b[0;34m\u001b[0m\u001b[0;34m\u001b[0m\u001b[0m\n\u001b[0m",
      "\u001b[0;32m/tmp/ipykernel_7321/3227546980.py\u001b[0m in \u001b[0;36medit_operations\u001b[0;34m(a, b, with_swap, spaces_insert_delete_only, return_distance_only)\u001b[0m\n\u001b[1;32m     51\u001b[0m             \u001b[0mmin_cost\u001b[0m\u001b[0;34m,\u001b[0m \u001b[0mmin_op\u001b[0m \u001b[0;34m=\u001b[0m \u001b[0mmin\u001b[0m\u001b[0;34m(\u001b[0m\u001b[0mcosts\u001b[0m\u001b[0;34m,\u001b[0m \u001b[0mkey\u001b[0m\u001b[0;34m=\u001b[0m\u001b[0;32mlambda\u001b[0m \u001b[0mitem\u001b[0m\u001b[0;34m:\u001b[0m \u001b[0mitem\u001b[0m\u001b[0;34m[\u001b[0m\u001b[0;36m0\u001b[0m\u001b[0;34m]\u001b[0m\u001b[0;34m)\u001b[0m\u001b[0;34m\u001b[0m\u001b[0;34m\u001b[0m\u001b[0m\n\u001b[1;32m     52\u001b[0m             \u001b[0md\u001b[0m\u001b[0;34m[\u001b[0m\u001b[0mi\u001b[0m\u001b[0;34m]\u001b[0m\u001b[0;34m[\u001b[0m\u001b[0mj\u001b[0m\u001b[0;34m]\u001b[0m \u001b[0;34m=\u001b[0m \u001b[0mmin_cost\u001b[0m\u001b[0;34m\u001b[0m\u001b[0;34m\u001b[0m\u001b[0m\n\u001b[0;32m---> 53\u001b[0;31m             \u001b[0mops\u001b[0m\u001b[0;34m[\u001b[0m\u001b[0mi\u001b[0m\u001b[0;34m]\u001b[0m\u001b[0;34m[\u001b[0m\u001b[0mj\u001b[0m\u001b[0;34m]\u001b[0m \u001b[0;34m=\u001b[0m \u001b[0mmin_op\u001b[0m\u001b[0;34m\u001b[0m\u001b[0;34m\u001b[0m\u001b[0m\n\u001b[0m\u001b[1;32m     54\u001b[0m \u001b[0;34m\u001b[0m\u001b[0m\n\u001b[1;32m     55\u001b[0m     \u001b[0;31m# make sure that it worked\u001b[0m\u001b[0;34m\u001b[0m\u001b[0;34m\u001b[0m\u001b[0;34m\u001b[0m\u001b[0m\n",
      "\u001b[0;31mKeyboardInterrupt\u001b[0m: "
     ]
    }
   ],
   "source": [
    "_ = [edit_distance(i, t) for i, t in tqdm(zip(benchmark_corrupt, benchmark_correct), total=len(benchmark_correct))]"
   ]
  },
  {
   "cell_type": "code",
   "execution_count": 13,
   "id": "325ae99b-3af5-419a-97fc-8bb3eba9d794",
   "metadata": {},
   "outputs": [
    {
     "data": {
      "application/vnd.jupyter.widget-view+json": {
       "model_id": "3002679cc2c145078ab9645ee1fa1fcd",
       "version_major": 2,
       "version_minor": 0
      },
      "text/plain": [
       "  0%|          | 0/10000 [00:00<?, ?it/s]"
      ]
     },
     "metadata": {},
     "output_type": "display_data"
    }
   ],
   "source": [
    "_ = [Levenshtein.distance(i, t) for i, t in tqdm(zip(benchmark_corrupt, benchmark_correct), total=len(benchmark_corrupt))]"
   ]
  },
  {
   "cell_type": "code",
   "execution_count": 15,
   "id": "946390a9-1134-4e1d-ab82-9043287acefc",
   "metadata": {},
   "outputs": [
    {
     "data": {
      "application/vnd.jupyter.widget-view+json": {
       "model_id": "9a170182cc8d4961a32f5b5521050ec5",
       "version_major": 2,
       "version_minor": 0
      },
      "text/plain": [
       "  0%|          | 0/10000 [00:00<?, ?it/s]"
      ]
     },
     "metadata": {},
     "output_type": "display_data"
    },
    {
     "ename": "KeyboardInterrupt",
     "evalue": "",
     "output_type": "error",
     "traceback": [
      "\u001b[0;31m---------------------------------------------------------------------------\u001b[0m",
      "\u001b[0;31mKeyboardInterrupt\u001b[0m                         Traceback (most recent call last)",
      "\u001b[0;32m/tmp/ipykernel_7321/3902927295.py\u001b[0m in \u001b[0;36m<module>\u001b[0;34m\u001b[0m\n\u001b[0;32m----> 1\u001b[0;31m \u001b[0m_\u001b[0m \u001b[0;34m=\u001b[0m \u001b[0;34m[\u001b[0m\u001b[0med\u001b[0m\u001b[0;34m.\u001b[0m\u001b[0medit_distance\u001b[0m\u001b[0;34m(\u001b[0m\u001b[0mi\u001b[0m\u001b[0;34m,\u001b[0m \u001b[0mt\u001b[0m\u001b[0;34m)\u001b[0m \u001b[0;32mfor\u001b[0m \u001b[0mi\u001b[0m\u001b[0;34m,\u001b[0m \u001b[0mt\u001b[0m \u001b[0;32min\u001b[0m \u001b[0mtqdm\u001b[0m\u001b[0;34m(\u001b[0m\u001b[0mzip\u001b[0m\u001b[0;34m(\u001b[0m\u001b[0mbenchmark_corrupt\u001b[0m\u001b[0;34m,\u001b[0m \u001b[0mbenchmark_correct\u001b[0m\u001b[0;34m)\u001b[0m\u001b[0;34m,\u001b[0m \u001b[0mtotal\u001b[0m\u001b[0;34m=\u001b[0m\u001b[0mlen\u001b[0m\u001b[0;34m(\u001b[0m\u001b[0mbenchmark_corrupt\u001b[0m\u001b[0;34m)\u001b[0m\u001b[0;34m)\u001b[0m\u001b[0;34m]\u001b[0m\u001b[0;34m\u001b[0m\u001b[0;34m\u001b[0m\u001b[0m\n\u001b[0m",
      "\u001b[0;32m/tmp/ipykernel_7321/3902927295.py\u001b[0m in \u001b[0;36m<listcomp>\u001b[0;34m(.0)\u001b[0m\n\u001b[0;32m----> 1\u001b[0;31m \u001b[0m_\u001b[0m \u001b[0;34m=\u001b[0m \u001b[0;34m[\u001b[0m\u001b[0med\u001b[0m\u001b[0;34m.\u001b[0m\u001b[0medit_distance\u001b[0m\u001b[0;34m(\u001b[0m\u001b[0mi\u001b[0m\u001b[0;34m,\u001b[0m \u001b[0mt\u001b[0m\u001b[0;34m)\u001b[0m \u001b[0;32mfor\u001b[0m \u001b[0mi\u001b[0m\u001b[0;34m,\u001b[0m \u001b[0mt\u001b[0m \u001b[0;32min\u001b[0m \u001b[0mtqdm\u001b[0m\u001b[0;34m(\u001b[0m\u001b[0mzip\u001b[0m\u001b[0;34m(\u001b[0m\u001b[0mbenchmark_corrupt\u001b[0m\u001b[0;34m,\u001b[0m \u001b[0mbenchmark_correct\u001b[0m\u001b[0;34m)\u001b[0m\u001b[0;34m,\u001b[0m \u001b[0mtotal\u001b[0m\u001b[0;34m=\u001b[0m\u001b[0mlen\u001b[0m\u001b[0;34m(\u001b[0m\u001b[0mbenchmark_corrupt\u001b[0m\u001b[0;34m)\u001b[0m\u001b[0;34m)\u001b[0m\u001b[0;34m]\u001b[0m\u001b[0;34m\u001b[0m\u001b[0;34m\u001b[0m\u001b[0m\n\u001b[0m",
      "\u001b[0;32m~/msc/masters_thesis/code/spell_checking/utils/edit_distance.py\u001b[0m in \u001b[0;36medit_distance\u001b[0;34m(a, b, with_swap, spaces_insert_delete_only)\u001b[0m\n\u001b[1;32m     75\u001b[0m \u001b[0;34m\u001b[0m\u001b[0m\n\u001b[1;32m     76\u001b[0m     \"\"\"\n\u001b[0;32m---> 77\u001b[0;31m     \u001b[0;32mreturn\u001b[0m \u001b[0medit_distance_rs\u001b[0m\u001b[0;34m.\u001b[0m\u001b[0medit_distance\u001b[0m\u001b[0;34m(\u001b[0m\u001b[0ma\u001b[0m\u001b[0;34m,\u001b[0m \u001b[0mb\u001b[0m\u001b[0;34m,\u001b[0m \u001b[0mwith_swap\u001b[0m\u001b[0;34m,\u001b[0m \u001b[0mspaces_insert_delete_only\u001b[0m\u001b[0;34m)\u001b[0m\u001b[0;34m\u001b[0m\u001b[0;34m\u001b[0m\u001b[0m\n\u001b[0m\u001b[1;32m     78\u001b[0m \u001b[0;34m\u001b[0m\u001b[0m\n\u001b[1;32m     79\u001b[0m \u001b[0;34m\u001b[0m\u001b[0m\n",
      "\u001b[0;31mKeyboardInterrupt\u001b[0m: "
     ]
    }
   ],
   "source": [
    "_ = [ed.edit_distance(i, t) for i, t in tqdm(zip(benchmark_corrupt, benchmark_correct), total=len(benchmark_corrupt))]"
   ]
  },
  {
   "cell_type": "code",
   "execution_count": 19,
   "id": "c6c6f3d3-b44a-4277-b9da-2e2b28d7a890",
   "metadata": {},
   "outputs": [
    {
     "name": "stdout",
     "output_type": "stream",
     "text": [
      "22.007166981999944\n"
     ]
    }
   ],
   "source": [
    "start = time.perf_counter()\n",
    "_ = ed.batch_edit_distance(benchmark_corrupt, benchmark_correct, batch_size=256)\n",
    "end = time.perf_counter()\n",
    "print(end - start)"
   ]
  }
 ],
 "metadata": {
  "kernelspec": {
   "display_name": "Python 3 (ipykernel)",
   "language": "python",
   "name": "python3"
  },
  "language_info": {
   "codemirror_mode": {
    "name": "ipython",
    "version": 3
   },
   "file_extension": ".py",
   "mimetype": "text/x-python",
   "name": "python",
   "nbconvert_exporter": "python",
   "pygments_lexer": "ipython3",
   "version": "3.8.13"
  }
 },
 "nbformat": 4,
 "nbformat_minor": 5
}
