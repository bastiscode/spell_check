{
 "cells": [
  {
   "cell_type": "code",
   "execution_count": 1,
   "id": "eaee401f-698a-419e-b191-67ca95b5c1d4",
   "metadata": {},
   "outputs": [],
   "source": [
    "%load_ext autoreload\n",
    "%autoreload 2"
   ]
  },
  {
   "cell_type": "code",
   "execution_count": 32,
   "id": "ec6b54da-309e-4da2-b940-a6b3608e0562",
   "metadata": {},
   "outputs": [],
   "source": [
    "from typing import List, Tuple, Set\n",
    "import difflib\n",
    "import Levenshtein\n",
    "import re"
   ]
  },
  {
   "cell_type": "code",
   "execution_count": 168,
   "id": "69ae1c13-2598-45c6-9077-2ba8e83375ef",
   "metadata": {},
   "outputs": [],
   "source": [
    "test_pred = \"The cute act eats delicate fi sh.\"\n",
    "test_predicted = [test_pred]\n",
    "test_tgt = \"The cute cat eats delicious fish\"\n",
    "test_target = [test_tgt]\n",
    "test_ipt = \"Te cute cteats delicious fi sh.\"\n",
    "test_inputs = [test_ipt]"
   ]
  },
  {
   "cell_type": "code",
   "execution_count": 169,
   "id": "4df4c472-45a4-44aa-aebb-1978bf9e4f53",
   "metadata": {},
   "outputs": [],
   "source": [
    "misspelled = {0, 2, 3, 5}\n",
    "restored = {0, 1, 3}\n",
    "changed = {0, 2, 3}\n",
    "correct = {0, 1}"
   ]
  },
  {
   "cell_type": "code",
   "execution_count": 176,
   "id": "1e6eb812-ba22-477e-aa18-10d284c361cf",
   "metadata": {},
   "outputs": [],
   "source": [
    "def find_word_boundaries(s: str) -> List[Tuple[int, int]]:\n",
    "    word_boundary_pattern = re.compile(\"\\S+\")\n",
    "    matches = [(match.start(), match.end()) for match in word_boundary_pattern.finditer(s)]\n",
    "    assert len(matches) == len(s.split())\n",
    "    return matches\n",
    "\n",
    "def is_transposition(edit_op, next_edit_op) -> bool:\n",
    "    if next_edit_op is None:\n",
    "        return False\n",
    "    op_code, src_idx, tgt_idx = edit_op\n",
    "    next_op_code, next_src_idx, next_tgt_idx = next_edit_op\n",
    "    return op_code == \"replace\" and next_op_code == \"replace\" and next_src_idx - src_idx == 1 and next_tgt_idx - tgt_idx == 1\n",
    "\n",
    "def get_edited_indices(ipt: str, tgt: str) -> Set[int]:\n",
    "    assert tgt.strip() == tgt and ipt.strip() == ipt, \"the two strings must not contain leading or trailing whitespaces\"\n",
    "    tgt_word_boundaries = find_word_boundaries(tgt)\n",
    "    edit_ops = Levenshtein.editops(ipt, tgt)\n",
    "    edited_tgt_indices = set()\n",
    "    i = 0\n",
    "    while i < len(edit_ops):\n",
    "        edit_op = edit_ops[i]\n",
    "        op_code, ipt_idx, tgt_idx = edit_op\n",
    "        word_boundary_idx = 0\n",
    "        while word_boundary_idx < len(tgt_word_boundaries):\n",
    "            word_start, word_end = tgt_word_boundaries[word_boundary_idx]\n",
    "            if tgt_idx <= word_end:\n",
    "                break\n",
    "            word_boundary_idx += 1\n",
    "        next_edit_op = edit_ops[i + 1] if i < len(edit_ops) - 1 else None\n",
    "        # check for transposition ourselves, since edit_ops only return replace, insert, delete\n",
    "        if is_transposition(edit_op, next_edit_op):\n",
    "            _, next_ipt_idx, next_tgt_idx = next_edit_op\n",
    "            # transposition of a whitespace is same as deleting and inserting it elsewhere, two tokens will be affected\n",
    "            if tgt[tgt_idx] == \" \" or tgt[next_tgt_idx] == \" \":\n",
    "                edited_tgt_indices.add(word_boundary_idx)\n",
    "                edited_tgt_indices.add(word_boundary_idx + 1)\n",
    "            else:\n",
    "                edited_tgt_indices.add(word_boundary_idx)\n",
    "            i += 2\n",
    "        elif op_code == \"insert\" and tgt[tgt_idx] == \" \":\n",
    "            assert word_boundary_idx < len(tgt_word_boundaries) - 1\n",
    "            edited_tgt_indices.add(word_boundary_idx)\n",
    "            edited_tgt_indices.add(word_boundary_idx + 1)\n",
    "            i += 1\n",
    "        else:\n",
    "            edited_tgt_indices.add(word_boundary_idx)\n",
    "            i += 1\n",
    "    return edited_tgt_indices\n",
    "\n",
    "def match_tokens(ipt: str, tgt: str) -> Set[int]:\n",
    "    sm = difflib.SequenceMatcher(a=ipt.split(), b=tgt.split())\n",
    "    matching_blocks = sm.get_matching_blocks()\n",
    "    matching_tgt_indices = set()\n",
    "    for matching_block in matching_blocks:\n",
    "        start = matching_block.b\n",
    "        for idx in range(start, start + matching_block.size):\n",
    "            matching_tgt_indices.add(idx)\n",
    "    return matching_tgt_indices\n",
    "\n",
    "edited_in_tgt = get_edited_indices(test_ipt, test_tgt)\n",
    "assert misspelled == edited_in_tgt, (misspelled, edited_in_tgt)\n",
    "\n",
    "edited_in_ipt = get_edited_indices(test_pred, test_ipt)\n",
    "assert changed == edited_in_ipt, (changed, edited_in_ipt)\n",
    "\n",
    "matching_in_tgt = match_tokens(test_pred, test_tgt)\n",
    "assert restored == matching_in_tgt, (restored, matching_in_tgt)"
   ]
  },
  {
   "cell_type": "code",
   "execution_count": 173,
   "id": "96660bf1-214f-4d9f-8c92-6598128f2008",
   "metadata": {},
   "outputs": [
    {
     "data": {
      "text/plain": [
       "[Match(a=0, b=0, size=2), Match(a=3, b=3, size=1), Match(a=7, b=6, size=0)]"
      ]
     },
     "execution_count": 173,
     "metadata": {},
     "output_type": "execute_result"
    }
   ],
   "source": [
    "sm = difflib.SequenceMatcher(a=test_pred.split(), b=test_tgt.split())\n",
    "sm.get_matching_blocks()"
   ]
  },
  {
   "cell_type": "code",
   "execution_count": 9,
   "id": "9a9c367d-4875-4f5d-a97f-e48fe3f6d0fd",
   "metadata": {},
   "outputs": [],
   "source": [
    "def f1_prec_rec(predicted_sequences: List[str], target_sequences: List[str], input_sequences: List[str]) -> Tuple[float, float, float]:\n",
    "    def _tp_fp_fn(pred: str, tgt: str, ipt: str) -> Tuple[int, int, int]:\n",
    "        tp = fp = fn = 0\n",
    "        return tp, fp, fn\n",
    "        \n",
    "    total_tp = total_fp = total_fn = 0\n",
    "    for pred, tgt, ipt in zip(predicted_sequences, target_sequences, input_sequences):\n",
    "        tp, fp, fn = _tp_fp_fn(pred, tgt, ipt)\n",
    "        total_tp += tp\n",
    "        total_fp += fp\n",
    "        total_fn += fn\n",
    "    \n",
    "    return total_tp, total_fp, total_fn"
   ]
  },
  {
   "cell_type": "code",
   "execution_count": 10,
   "id": "fa0f9d2f-c580-49ac-9599-5258f48e386b",
   "metadata": {},
   "outputs": [
    {
     "data": {
      "text/plain": [
       "(0, 0, 0)"
      ]
     },
     "execution_count": 10,
     "metadata": {},
     "output_type": "execute_result"
    }
   ],
   "source": [
    "f1_prec_rec(test_predicted, test_target, test_inputs)"
   ]
  },
  {
   "cell_type": "code",
   "execution_count": null,
   "id": "ed70c56b-3368-482c-92ed-ff4fae8f0391",
   "metadata": {},
   "outputs": [],
   "source": []
  }
 ],
 "metadata": {
  "kernelspec": {
   "display_name": "Python 3 (ipykernel)",
   "language": "python",
   "name": "python3"
  },
  "language_info": {
   "codemirror_mode": {
    "name": "ipython",
    "version": 3
   },
   "file_extension": ".py",
   "mimetype": "text/x-python",
   "name": "python",
   "nbconvert_exporter": "python",
   "pygments_lexer": "ipython3",
   "version": "3.8.13"
  }
 },
 "nbformat": 4,
 "nbformat_minor": 5
}
