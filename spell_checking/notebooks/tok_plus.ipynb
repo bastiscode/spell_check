{
 "cells": [
  {
   "cell_type": "code",
   "execution_count": 1,
   "id": "3ed6e476-d701-4258-b5bd-4144c8f0fa91",
   "metadata": {},
   "outputs": [],
   "source": [
    "%load_ext autoreload\n",
    "%autoreload 2"
   ]
  },
  {
   "cell_type": "code",
   "execution_count": 66,
   "id": "d1568c77-6fb7-4304-b0d2-3dc0f170993c",
   "metadata": {},
   "outputs": [],
   "source": [
    "import os\n",
    "import omegaconf\n",
    "import torch\n",
    "from tqdm.notebook import tqdm\n",
    "\n",
    "from spell_checking import BASE_DIR, DATA_DIR\n",
    "\n",
    "from gnn_lib.data import variants, datasets, utils\n",
    "from gnn_lib.utils import io\n",
    "\n",
    "os.environ[\"GNN_LIB_DATA_DIR\"] = DATA_DIR\n",
    "os.environ[\"GNN_LIB_CONFIG_DIR\"] = os.path.join(BASE_DIR, \"configs\")"
   ]
  },
  {
   "cell_type": "code",
   "execution_count": 32,
   "id": "63f125fc-c3d8-45a6-8a96-4bbb0e3f0e24",
   "metadata": {},
   "outputs": [],
   "source": [
    "tok_plus_conf = omegaconf.OmegaConf.load(os.path.join(os.environ[\"GNN_LIB_CONFIG_DIR\"], \"variant\", \"tokenization_repair_plus_sed_plus_sec.yaml\"))\n",
    "tok_plus = variants.get_variant_from_config(tok_plus_conf, 22)\n",
    "\n",
    "sec_words_conf = omegaconf.OmegaConf.load(os.path.join(os.environ[\"GNN_LIB_CONFIG_DIR\"], \"variant\", \"sec_words_nmt_transformer.yaml\"))\n",
    "sec_words = variants.get_variant_from_config(sec_words_conf, 22)"
   ]
  },
  {
   "cell_type": "code",
   "execution_count": 35,
   "id": "bf3a7221-58b6-481c-a368-75088a8e2d4f",
   "metadata": {},
   "outputs": [],
   "source": [
    "tok_plus_dataset = datasets.PreprocessedDataset(os.path.join(DATA_DIR, \"processed\", \"wikidump_paragraphs_tokenization_repair_plus\"), tok_plus_conf, 22)\n",
    "sec_words_dataset = datasets.PreprocessedDataset(os.path.join(DATA_DIR, \"processed\", \"wikidump_paragraphs_sed_words_and_sec\"), sec_words_conf, 22)"
   ]
  },
  {
   "cell_type": "code",
   "execution_count": 27,
   "id": "57080653-861a-4d32-bb01-6f7cb616be3b",
   "metadata": {},
   "outputs": [
    {
     "data": {
      "application/vnd.jupyter.widget-view+json": {
       "model_id": "faca547c9b304dc1a8d220ac0cb0b3c6",
       "version_major": 2,
       "version_minor": 0
      },
      "text/plain": [
       "  0%|          | 0/12129 [00:00<?, ?it/s]"
      ]
     },
     "metadata": {},
     "output_type": "display_data"
    },
    {
     "data": {
      "text/plain": [
       "352"
      ]
     },
     "execution_count": 27,
     "metadata": {},
     "output_type": "execute_result"
    }
   ],
   "source": [
    "max([sum(info[\"sec_label_splits\"]) - len(info[\"sec_label_splits\"]) for _, info in tqdm(dataset)])"
   ]
  },
  {
   "cell_type": "code",
   "execution_count": 52,
   "id": "0c71db03-c704-490a-b043-438323c1d67e",
   "metadata": {},
   "outputs": [
    {
     "data": {
      "text/plain": [
       "12129"
      ]
     },
     "execution_count": 52,
     "metadata": {},
     "output_type": "execute_result"
    }
   ],
   "source": [
    "lmdb = utils.open_lmdb(os.path.join(DATA_DIR, \"processed\", \"wikidump_paragraphs_tokenization_repair_plus\", \"lmdb_0\"))\n",
    "txn = lmdb.begin(write=False)\n",
    "num_elements = datasets._decompress(txn.get(b\"dataset_length\"))\n",
    "num_elements"
   ]
  },
  {
   "cell_type": "code",
   "execution_count": 63,
   "id": "0681069b-1dba-4376-bb7b-9f73f0c85401",
   "metadata": {},
   "outputs": [],
   "source": [
    "def load_element(idx: int):\n",
    "    data = txn.get(str(idx).encode(\"utf8\"))\n",
    "    sample = utils.deserialize_samples([data])[0]\n",
    "    target = txn.get(f\"{idx}_target\".encode(\"utf8\")).decode(\"utf8\")\n",
    "    return sample, target, sample.info[\"org_sequence\"]"
   ]
  },
  {
   "cell_type": "code",
   "execution_count": 64,
   "id": "03c78cc5-3328-4e28-9281-625bb9311167",
   "metadata": {},
   "outputs": [],
   "source": [
    "sample, target, org = load_element(9)"
   ]
  },
  {
   "cell_type": "code",
   "execution_count": 68,
   "id": "82665c51-2304-4c22-ada0-99b17c854b8b",
   "metadata": {},
   "outputs": [
    {
     "data": {
      "application/vnd.jupyter.widget-view+json": {
       "model_id": "655c29b2f9ee4c048e3270b7d83274fa",
       "version_major": 2,
       "version_minor": 0
      },
      "text/plain": [
       "  0%|          | 0/12129 [00:00<?, ?it/s]"
      ]
     },
     "metadata": {},
     "output_type": "display_data"
    }
   ],
   "source": [
    "for _ in tqdm(list(range(num_elements))):\n",
    "    _, sec_info = sec_words.get_inputs(target, org)\n",
    "    _, tok_plus_info = tok_plus.get_inputs(sample, target)\n",
    "    assert torch.equal(sec_info[\"label\"], tok_plus_info[\"sec_label\"])"
   ]
  },
  {
   "cell_type": "code",
   "execution_count": 115,
   "id": "feeb3f2b-f811-4b69-91b0-96f58890d265",
   "metadata": {},
   "outputs": [
    {
     "data": {
      "text/plain": [
       "[(1, 6), (7, 9), (9, 10), (11, 18), (19, 29)]"
      ]
     },
     "execution_count": 115,
     "metadata": {},
     "output_type": "execute_result"
    }
   ],
   "source": [
    "sequence = \" thi s isa t e s t sequen c e \"\n",
    "target_sequence = \"this is a test sequence\"\n",
    "\n",
    "import re\n",
    "def get_word_boundaries(sequence, target_sequence):\n",
    "    pattern = \"\\s?\"\n",
    "    for word in target_sequence.split():\n",
    "        pattern += \"(\" + \"\\s?\".join(re.escape(char) for char in word) + \")\\s?\"\n",
    "    match = re.fullmatch(pattern, sequence)\n",
    "    assert match is not None\n",
    "    word_boundaries = []\n",
    "    for g in range(len(match.groups())):\n",
    "        word_boundaries.append((match.start(g + 1), match.end(g + 1)))\n",
    "    return word_boundaries\n",
    "\n",
    "get_word_boundaries(sequence, target_sequence)"
   ]
  },
  {
   "cell_type": "code",
   "execution_count": 172,
   "id": "d03a946f-3c30-4160-a39e-c6e08633ce02",
   "metadata": {},
   "outputs": [
    {
     "name": "stdout",
     "output_type": "stream",
     "text": [
      "<re.Match object; span=(0, 8), match='thi s is'>\n",
      "('thi s', 'is')\n",
      "0 5\n",
      "6 8\n"
     ]
    }
   ],
   "source": [
    "match = re.match(\"\\s?(t\\s?h\\s?i\\s?s)\\s?(i\\s?s)\\s?\", \"thi s is\")\n",
    "print(match)\n",
    "if match:\n",
    "    print(match.groups())\n",
    "    for g in range(len(match.groups())):\n",
    "        print(match.start(g+1), match.end(g+1))"
   ]
  },
  {
   "cell_type": "code",
   "execution_count": 208,
   "id": "d8375a64-684a-45bd-951a-52515ff31833",
   "metadata": {},
   "outputs": [
    {
     "data": {
      "text/plain": [
       "['!!!', 'a', '.', '9d', '.', 's', ',,']"
      ]
     },
     "execution_count": 208,
     "metadata": {},
     "output_type": "execute_result"
    }
   ],
   "source": [
    "re.findall(\"\\w+|[^\\w\\s]+\", \"!!!a.9d.s,, \")"
   ]
  },
  {
   "cell_type": "code",
   "execution_count": 213,
   "id": "cd935db5-e694-48b5-a7cd-bc62dca9b1f8",
   "metadata": {},
   "outputs": [
    {
     "data": {
      "text/plain": [
       "['!!!']"
      ]
     },
     "execution_count": 213,
     "metadata": {},
     "output_type": "execute_result"
    }
   ],
   "source": [
    "re.findall(r\"[^\\w\\s]+\", \"a!!!\")"
   ]
  },
  {
   "cell_type": "code",
   "execution_count": 223,
   "id": "fda3a985-3e11-44c2-9854-301747ee6d96",
   "metadata": {},
   "outputs": [],
   "source": [
    "re.match(r\"[^\\w]\", \"a\")"
   ]
  },
  {
   "cell_type": "code",
   "execution_count": 262,
   "id": "dd2f8d4e-be03-4bfd-86b2-9722fdfd642d",
   "metadata": {},
   "outputs": [
    {
     "data": {
      "text/plain": [
       "['!!!', 'a.t.t', '!!!', 'this']"
      ]
     },
     "execution_count": 262,
     "metadata": {},
     "output_type": "execute_result"
    }
   ],
   "source": [
    "re.findall(r\"\\w\\S+\\w|\\w+|[^\\w\\s]+\", \"!!!a.t.t!!! this\")"
   ]
  },
  {
   "cell_type": "code",
   "execution_count": 209,
   "id": "629ccb4e-049d-40bd-883c-6f140840926a",
   "metadata": {},
   "outputs": [
    {
     "name": "stdout",
     "output_type": "stream",
     "text": [
      "!!!\n",
      "a\n",
      ".\n",
      "9d\n",
      ".\n",
      "s\n",
      ",,\n",
      "this\n",
      "is\n",
      "the\n",
      "-\n",
      "end\n",
      "the\n",
      "end\n"
     ]
    }
   ],
   "source": [
    "pattern = re.compile(r\"\\w+|[^\\w\\s]+\")\n",
    "for match in pattern.finditer(\"!!!a.9d.s,, this is the-end the end\"):\n",
    "    print(match.string[match.start():match.end()])"
   ]
  }
 ],
 "metadata": {
  "kernelspec": {
   "display_name": "Python 3 (ipykernel)",
   "language": "python",
   "name": "python3"
  },
  "language_info": {
   "codemirror_mode": {
    "name": "ipython",
    "version": 3
   },
   "file_extension": ".py",
   "mimetype": "text/x-python",
   "name": "python",
   "nbconvert_exporter": "python",
   "pygments_lexer": "ipython3",
   "version": "3.8.8"
  }
 },
 "nbformat": 4,
 "nbformat_minor": 5
}
