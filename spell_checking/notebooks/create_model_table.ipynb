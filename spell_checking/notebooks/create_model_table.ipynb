{
 "cells": [
  {
   "cell_type": "code",
   "execution_count": 1,
   "id": "309f3a4f-d2a4-4011-89c6-26555a0842e4",
   "metadata": {},
   "outputs": [],
   "source": [
    "%load_ext autoreload\n",
    "%autoreload 2"
   ]
  },
  {
   "cell_type": "code",
   "execution_count": 10,
   "id": "e27c7a9a-35d7-41a3-8b3e-58f399c20b4d",
   "metadata": {},
   "outputs": [],
   "source": [
    "from nsc import get_available_spelling_error_correction_models, get_available_spelling_error_detection_models, get_available_tokenization_repair_models\n",
    "from nsc.api import tables, utils"
   ]
  },
  {
   "cell_type": "code",
   "execution_count": 28,
   "id": "5b66f7e8-5123-4a70-b518-040120c2c384",
   "metadata": {},
   "outputs": [],
   "source": [
    "headers = [[\n",
    "    \"Task (CLI tool/Python class)\", \"Model\", \"Description\", \"Default\"\n",
    "]]\n",
    "data = [\n",
    "]\n",
    "for model_fn in [get_available_tokenization_repair_models, get_available_spelling_error_detection_models, get_available_spelling_error_correction_models]:\n",
    "    for i, model_info in enumerate(model_fn()):\n",
    "        if model_info.task == \"sec\":\n",
    "            command = r\"``nsec``\"\n",
    "            api = r\"``SpellingErrorCorrector``\"\n",
    "        elif model_info.task == \"tokenization_repair\":\n",
    "            command = r\"``ntr``\"\n",
    "            api = r\"``TokenizationRepairer``\"\n",
    "        else:\n",
    "            command = r\"``nsed``\"\n",
    "            api = r\"``SpellingErrorDetector``\"\n",
    "        data.append([model_info.task + \" (\" + command + \"/\" + api + \")\", model_info.name, model_info.description, \"X\" if i == 0 else \" \"])"
   ]
  },
  {
   "cell_type": "code",
   "execution_count": 29,
   "id": "df0fd859-323f-41fc-90f4-87f34a59c4ae",
   "metadata": {},
   "outputs": [],
   "source": [
    "csv_lines = [\",\".join(headers[0])] + [\",\".join(f\"\\\"{col}\\\"\" for col in line) for line in data]\n",
    "utils.save_text_file(\"../../sphinx_docs/models.csv\", csv_lines)"
   ]
  },
  {
   "cell_type": "code",
   "execution_count": null,
   "id": "47b383ff-2e3c-4989-a2e4-1ad4d9cc165f",
   "metadata": {},
   "outputs": [],
   "source": []
  }
 ],
 "metadata": {
  "kernelspec": {
   "display_name": "Python 3 (ipykernel)",
   "language": "python",
   "name": "python3"
  },
  "language_info": {
   "codemirror_mode": {
    "name": "ipython",
    "version": 3
   },
   "file_extension": ".py",
   "mimetype": "text/x-python",
   "name": "python",
   "nbconvert_exporter": "python",
   "pygments_lexer": "ipython3",
   "version": "3.8.13"
  }
 },
 "nbformat": 4,
 "nbformat_minor": 5
}
